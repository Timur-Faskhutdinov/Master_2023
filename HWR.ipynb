{
  "cells": [
    {
      "cell_type": "markdown",
      "source": [
        "tesseract"
      ],
      "metadata": {
        "id": "qNELLCo9LGcr"
      }
    },
    {
      "cell_type": "code",
      "source": [
        "# from PIL import Image\n",
        "# # !pip install pytesseract\n",
        "# !pip install tesseract\n",
        "# import pytesseract\n",
        "# pytesseract.pytesseract.tesseract_cmd = r'/usr/local/bin/pytesseract'"
      ],
      "metadata": {
        "id": "a3yIMEjw2kRD"
      },
      "execution_count": null,
      "outputs": []
    },
    {
      "cell_type": "code",
      "source": [
        "from google.colab import drive\n",
        "drive.mount('/content/drive')"
      ],
      "metadata": {
        "id": "ai3G0dbP1Mf1"
      },
      "execution_count": null,
      "outputs": []
    },
    {
      "cell_type": "code",
      "source": [
        "!apt install tesseract-ocr\n",
        "!apt install libtesseract-dev\n",
        "!pip install Pillow\n",
        "!pip install pytesseract\n",
        "\n",
        "# https://stackoverflow.com/questions/57968216/google-colab-how-do-i-install-traineddata-file-for-pytesseract\n",
        "# ! wget https://raw.githubusercontent.com/tesseract-ocr/tessdata_best/master/rus.traineddata\n",
        "! wget https://github.com/tesseract-ocr/tessdata/raw/4.00/rus.traineddata\n",
        "! sudo mv \"/content/rus.traineddata\" \"/usr/share/tesseract-ocr/4.00/tessdata\""
      ],
      "metadata": {
        "id": "RekZN8fA5_wP"
      },
      "execution_count": null,
      "outputs": []
    },
    {
      "cell_type": "code",
      "source": [
        "import pytesseract\n",
        "import shutil\n",
        "import os\n",
        "import random\n",
        "try:\n",
        "    from PIL import Image\n",
        "except ImportError:\n",
        "    import Image\n",
        "pytesseract.pytesseract.tesseract_cmd = (r'/usr/bin/tesseract')"
      ],
      "metadata": {
        "id": "1bvoBUEQ6EIx"
      },
      "execution_count": null,
      "outputs": []
    },
    {
      "cell_type": "code",
      "source": [
        "# https://stackoverflow.com/questions/51696446/tesseract-installation-in-google-colaboratory\n",
        "# pytesseract.pytesseract.tesseract_cmd = r'/usr/local/bin/pytesseract'\n",
        "# pytesseract.pytesseract.tesseract_cmd = (r'/usr/bin/tesseract')\n",
        "\n",
        "# pytesseract.pytesseract.tesseract_cmd = r'/usr/local/bin/pytesseract'\n",
        "pytesseract.get_languages(config='')\n",
        "# print(pytesseract.get_tesseract_version())"
      ],
      "metadata": {
        "colab": {
          "base_uri": "https://localhost:8080/"
        },
        "id": "dI1li0RU8KmN",
        "outputId": "7eab3507-2d2b-4d7c-e0d6-fb6d8e739c87"
      },
      "execution_count": null,
      "outputs": [
        {
          "output_type": "execute_result",
          "data": {
            "text/plain": [
              "['eng', 'osd']"
            ]
          },
          "metadata": {},
          "execution_count": 18
        }
      ]
    },
    {
      "cell_type": "code",
      "source": [
        "# !echo $TESSDATA_PREFIX\n",
        "# pytesseract.get_languages(config='')\n",
        "pytesseract.get_tesseract_version()"
      ],
      "metadata": {
        "colab": {
          "base_uri": "https://localhost:8080/"
        },
        "id": "RnrYaiBj8pTO",
        "outputId": "167c2da5-43c2-41f1-ad99-90d68cc699a3"
      },
      "execution_count": null,
      "outputs": [
        {
          "output_type": "execute_result",
          "data": {
            "text/plain": [
              "<Version('4.1.1')>"
            ]
          },
          "metadata": {},
          "execution_count": 8
        }
      ]
    },
    {
      "cell_type": "code",
      "source": [
        "from google.colab import files\n",
        "\n",
        "uploaded = files.upload()"
      ],
      "metadata": {
        "id": "nRmOZWE06KVQ",
        "colab": {
          "base_uri": "https://localhost:8080/",
          "height": 73
        },
        "outputId": "74deb530-f7c2-474d-d953-ce1be4749677"
      },
      "execution_count": null,
      "outputs": [
        {
          "output_type": "display_data",
          "data": {
            "text/plain": [
              "<IPython.core.display.HTML object>"
            ],
            "text/html": [
              "\n",
              "     <input type=\"file\" id=\"files-0f5e970e-346a-4f35-9799-2f671d0b4dc0\" name=\"files[]\" multiple disabled\n",
              "        style=\"border:none\" />\n",
              "     <output id=\"result-0f5e970e-346a-4f35-9799-2f671d0b4dc0\">\n",
              "      Upload widget is only available when the cell has been executed in the\n",
              "      current browser session. Please rerun this cell to enable.\n",
              "      </output>\n",
              "      <script>// Copyright 2017 Google LLC\n",
              "//\n",
              "// Licensed under the Apache License, Version 2.0 (the \"License\");\n",
              "// you may not use this file except in compliance with the License.\n",
              "// You may obtain a copy of the License at\n",
              "//\n",
              "//      http://www.apache.org/licenses/LICENSE-2.0\n",
              "//\n",
              "// Unless required by applicable law or agreed to in writing, software\n",
              "// distributed under the License is distributed on an \"AS IS\" BASIS,\n",
              "// WITHOUT WARRANTIES OR CONDITIONS OF ANY KIND, either express or implied.\n",
              "// See the License for the specific language governing permissions and\n",
              "// limitations under the License.\n",
              "\n",
              "/**\n",
              " * @fileoverview Helpers for google.colab Python module.\n",
              " */\n",
              "(function(scope) {\n",
              "function span(text, styleAttributes = {}) {\n",
              "  const element = document.createElement('span');\n",
              "  element.textContent = text;\n",
              "  for (const key of Object.keys(styleAttributes)) {\n",
              "    element.style[key] = styleAttributes[key];\n",
              "  }\n",
              "  return element;\n",
              "}\n",
              "\n",
              "// Max number of bytes which will be uploaded at a time.\n",
              "const MAX_PAYLOAD_SIZE = 100 * 1024;\n",
              "\n",
              "function _uploadFiles(inputId, outputId) {\n",
              "  const steps = uploadFilesStep(inputId, outputId);\n",
              "  const outputElement = document.getElementById(outputId);\n",
              "  // Cache steps on the outputElement to make it available for the next call\n",
              "  // to uploadFilesContinue from Python.\n",
              "  outputElement.steps = steps;\n",
              "\n",
              "  return _uploadFilesContinue(outputId);\n",
              "}\n",
              "\n",
              "// This is roughly an async generator (not supported in the browser yet),\n",
              "// where there are multiple asynchronous steps and the Python side is going\n",
              "// to poll for completion of each step.\n",
              "// This uses a Promise to block the python side on completion of each step,\n",
              "// then passes the result of the previous step as the input to the next step.\n",
              "function _uploadFilesContinue(outputId) {\n",
              "  const outputElement = document.getElementById(outputId);\n",
              "  const steps = outputElement.steps;\n",
              "\n",
              "  const next = steps.next(outputElement.lastPromiseValue);\n",
              "  return Promise.resolve(next.value.promise).then((value) => {\n",
              "    // Cache the last promise value to make it available to the next\n",
              "    // step of the generator.\n",
              "    outputElement.lastPromiseValue = value;\n",
              "    return next.value.response;\n",
              "  });\n",
              "}\n",
              "\n",
              "/**\n",
              " * Generator function which is called between each async step of the upload\n",
              " * process.\n",
              " * @param {string} inputId Element ID of the input file picker element.\n",
              " * @param {string} outputId Element ID of the output display.\n",
              " * @return {!Iterable<!Object>} Iterable of next steps.\n",
              " */\n",
              "function* uploadFilesStep(inputId, outputId) {\n",
              "  const inputElement = document.getElementById(inputId);\n",
              "  inputElement.disabled = false;\n",
              "\n",
              "  const outputElement = document.getElementById(outputId);\n",
              "  outputElement.innerHTML = '';\n",
              "\n",
              "  const pickedPromise = new Promise((resolve) => {\n",
              "    inputElement.addEventListener('change', (e) => {\n",
              "      resolve(e.target.files);\n",
              "    });\n",
              "  });\n",
              "\n",
              "  const cancel = document.createElement('button');\n",
              "  inputElement.parentElement.appendChild(cancel);\n",
              "  cancel.textContent = 'Cancel upload';\n",
              "  const cancelPromise = new Promise((resolve) => {\n",
              "    cancel.onclick = () => {\n",
              "      resolve(null);\n",
              "    };\n",
              "  });\n",
              "\n",
              "  // Wait for the user to pick the files.\n",
              "  const files = yield {\n",
              "    promise: Promise.race([pickedPromise, cancelPromise]),\n",
              "    response: {\n",
              "      action: 'starting',\n",
              "    }\n",
              "  };\n",
              "\n",
              "  cancel.remove();\n",
              "\n",
              "  // Disable the input element since further picks are not allowed.\n",
              "  inputElement.disabled = true;\n",
              "\n",
              "  if (!files) {\n",
              "    return {\n",
              "      response: {\n",
              "        action: 'complete',\n",
              "      }\n",
              "    };\n",
              "  }\n",
              "\n",
              "  for (const file of files) {\n",
              "    const li = document.createElement('li');\n",
              "    li.append(span(file.name, {fontWeight: 'bold'}));\n",
              "    li.append(span(\n",
              "        `(${file.type || 'n/a'}) - ${file.size} bytes, ` +\n",
              "        `last modified: ${\n",
              "            file.lastModifiedDate ? file.lastModifiedDate.toLocaleDateString() :\n",
              "                                    'n/a'} - `));\n",
              "    const percent = span('0% done');\n",
              "    li.appendChild(percent);\n",
              "\n",
              "    outputElement.appendChild(li);\n",
              "\n",
              "    const fileDataPromise = new Promise((resolve) => {\n",
              "      const reader = new FileReader();\n",
              "      reader.onload = (e) => {\n",
              "        resolve(e.target.result);\n",
              "      };\n",
              "      reader.readAsArrayBuffer(file);\n",
              "    });\n",
              "    // Wait for the data to be ready.\n",
              "    let fileData = yield {\n",
              "      promise: fileDataPromise,\n",
              "      response: {\n",
              "        action: 'continue',\n",
              "      }\n",
              "    };\n",
              "\n",
              "    // Use a chunked sending to avoid message size limits. See b/62115660.\n",
              "    let position = 0;\n",
              "    do {\n",
              "      const length = Math.min(fileData.byteLength - position, MAX_PAYLOAD_SIZE);\n",
              "      const chunk = new Uint8Array(fileData, position, length);\n",
              "      position += length;\n",
              "\n",
              "      const base64 = btoa(String.fromCharCode.apply(null, chunk));\n",
              "      yield {\n",
              "        response: {\n",
              "          action: 'append',\n",
              "          file: file.name,\n",
              "          data: base64,\n",
              "        },\n",
              "      };\n",
              "\n",
              "      let percentDone = fileData.byteLength === 0 ?\n",
              "          100 :\n",
              "          Math.round((position / fileData.byteLength) * 100);\n",
              "      percent.textContent = `${percentDone}% done`;\n",
              "\n",
              "    } while (position < fileData.byteLength);\n",
              "  }\n",
              "\n",
              "  // All done.\n",
              "  yield {\n",
              "    response: {\n",
              "      action: 'complete',\n",
              "    }\n",
              "  };\n",
              "}\n",
              "\n",
              "scope.google = scope.google || {};\n",
              "scope.google.colab = scope.google.colab || {};\n",
              "scope.google.colab._files = {\n",
              "  _uploadFiles,\n",
              "  _uploadFilesContinue,\n",
              "};\n",
              "})(self);\n",
              "</script> "
            ]
          },
          "metadata": {}
        },
        {
          "output_type": "stream",
          "name": "stdout",
          "text": [
            "Saving img045©.jpg to img045©.jpg\n"
          ]
        }
      ]
    },
    {
      "cell_type": "code",
      "source": [
        "extractedInformation = pytesseract.image_to_string(Image.open('img045©.jpg'), lang='rus')\n",
        "# extractedInformation = pytesseract.image_to_string(Image.open('img045©.jpg'))\n",
        "print(extractedInformation)"
      ],
      "metadata": {
        "id": "kAfMHY517DPA"
      },
      "execution_count": null,
      "outputs": []
    },
    {
      "cell_type": "markdown",
      "source": [
        "https://duckduckgo.com/?q=python+handwriting+recognition+russian&t=ffab&ia=software\n",
        "\n",
        "https://github.com/konverner/shiftlab_ocr\n",
        "\n",
        "https://link.springer.com/article/10.1007/s11042-021-11399-6\n",
        "\n",
        "https://github.com/yarenska/Russian-Handwriting-Recognition\n"
      ],
      "metadata": {
        "id": "JBYHsNIOLBTA"
      }
    },
    {
      "cell_type": "code",
      "source": [
        "#Shiftlab Ocr\n",
        "!pip install shiftlab_ocr"
      ],
      "metadata": {
        "colab": {
          "base_uri": "https://localhost:8080/"
        },
        "id": "rMfNpg7oK9wP",
        "outputId": "10cd3d38-4237-4988-a951-d47074c28ccc"
      },
      "execution_count": null,
      "outputs": [
        {
          "output_type": "stream",
          "name": "stdout",
          "text": [
            "Looking in indexes: https://pypi.org/simple, https://us-python.pkg.dev/colab-wheels/public/simple/\n",
            "Requirement already satisfied: shiftlab_ocr in /usr/local/lib/python3.10/dist-packages (0.3.1)\n",
            "Requirement already satisfied: tqdm in /usr/local/lib/python3.10/dist-packages (from shiftlab_ocr) (4.65.0)\n",
            "Requirement already satisfied: opencv-python in /usr/local/lib/python3.10/dist-packages (from shiftlab_ocr) (4.7.0.72)\n",
            "Requirement already satisfied: python-bidi in /usr/local/lib/python3.10/dist-packages (from shiftlab_ocr) (0.4.2)\n",
            "Requirement already satisfied: editdistance in /usr/local/lib/python3.10/dist-packages (from shiftlab_ocr) (0.6.2)\n",
            "Requirement already satisfied: torchvision in /usr/local/lib/python3.10/dist-packages (from shiftlab_ocr) (0.15.2+cu118)\n",
            "Requirement already satisfied: torch in /usr/local/lib/python3.10/dist-packages (from shiftlab_ocr) (2.0.1+cu118)\n",
            "Requirement already satisfied: Pillow in /usr/local/lib/python3.10/dist-packages (from shiftlab_ocr) (8.4.0)\n",
            "Requirement already satisfied: numpy>=1.21.2 in /usr/local/lib/python3.10/dist-packages (from opencv-python->shiftlab_ocr) (1.22.4)\n",
            "Requirement already satisfied: six in /usr/local/lib/python3.10/dist-packages (from python-bidi->shiftlab_ocr) (1.16.0)\n",
            "Requirement already satisfied: filelock in /usr/local/lib/python3.10/dist-packages (from torch->shiftlab_ocr) (3.12.0)\n",
            "Requirement already satisfied: typing-extensions in /usr/local/lib/python3.10/dist-packages (from torch->shiftlab_ocr) (4.5.0)\n",
            "Requirement already satisfied: sympy in /usr/local/lib/python3.10/dist-packages (from torch->shiftlab_ocr) (1.11.1)\n",
            "Requirement already satisfied: networkx in /usr/local/lib/python3.10/dist-packages (from torch->shiftlab_ocr) (3.1)\n",
            "Requirement already satisfied: jinja2 in /usr/local/lib/python3.10/dist-packages (from torch->shiftlab_ocr) (3.1.2)\n",
            "Requirement already satisfied: triton==2.0.0 in /usr/local/lib/python3.10/dist-packages (from torch->shiftlab_ocr) (2.0.0)\n",
            "Requirement already satisfied: cmake in /usr/local/lib/python3.10/dist-packages (from triton==2.0.0->torch->shiftlab_ocr) (3.25.2)\n",
            "Requirement already satisfied: lit in /usr/local/lib/python3.10/dist-packages (from triton==2.0.0->torch->shiftlab_ocr) (16.0.5)\n",
            "Requirement already satisfied: requests in /usr/local/lib/python3.10/dist-packages (from torchvision->shiftlab_ocr) (2.27.1)\n",
            "Requirement already satisfied: MarkupSafe>=2.0 in /usr/local/lib/python3.10/dist-packages (from jinja2->torch->shiftlab_ocr) (2.1.2)\n",
            "Requirement already satisfied: urllib3<1.27,>=1.21.1 in /usr/local/lib/python3.10/dist-packages (from requests->torchvision->shiftlab_ocr) (1.26.15)\n",
            "Requirement already satisfied: certifi>=2017.4.17 in /usr/local/lib/python3.10/dist-packages (from requests->torchvision->shiftlab_ocr) (2022.12.7)\n",
            "Requirement already satisfied: charset-normalizer~=2.0.0 in /usr/local/lib/python3.10/dist-packages (from requests->torchvision->shiftlab_ocr) (2.0.12)\n",
            "Requirement already satisfied: idna<4,>=2.5 in /usr/local/lib/python3.10/dist-packages (from requests->torchvision->shiftlab_ocr) (3.4)\n",
            "Requirement already satisfied: mpmath>=0.19 in /usr/local/lib/python3.10/dist-packages (from sympy->torch->shiftlab_ocr) (1.3.0)\n"
          ]
        }
      ]
    },
    {
      "cell_type": "code",
      "source": [],
      "metadata": {
        "id": "7DsqRxNmMkAV"
      },
      "execution_count": null,
      "outputs": []
    },
    {
      "cell_type": "code",
      "source": [
        "# from shiftlab_ocr.ocr_model import Reader"
      ],
      "metadata": {
        "colab": {
          "base_uri": "https://localhost:8080/",
          "height": 322
        },
        "id": "hIaVXTshMzxg",
        "outputId": "b7f59962-4ebe-4a46-8041-da89e8c1cc21"
      },
      "execution_count": null,
      "outputs": [
        {
          "output_type": "error",
          "ename": "ImportError",
          "evalue": "ignored",
          "traceback": [
            "\u001b[0;31m---------------------------------------------------------------------------\u001b[0m",
            "\u001b[0;31mImportError\u001b[0m                               Traceback (most recent call last)",
            "\u001b[0;32m<ipython-input-23-3ed8a33c8b46>\u001b[0m in \u001b[0;36m<cell line: 1>\u001b[0;34m()\u001b[0m\n\u001b[0;32m----> 1\u001b[0;31m \u001b[0;32mfrom\u001b[0m \u001b[0mshiftlab_ocr\u001b[0m\u001b[0;34m.\u001b[0m\u001b[0mocr_model\u001b[0m \u001b[0;32mimport\u001b[0m \u001b[0mReader\u001b[0m\u001b[0;34m\u001b[0m\u001b[0;34m\u001b[0m\u001b[0m\n\u001b[0m",
            "\u001b[0;31mImportError\u001b[0m: cannot import name 'Reader' from 'shiftlab_ocr.ocr_model' (/usr/local/lib/python3.10/dist-packages/shiftlab_ocr/ocr_model.py)",
            "",
            "\u001b[0;31m---------------------------------------------------------------------------\u001b[0;32m\nNOTE: If your import is failing due to a missing package, you can\nmanually install dependencies using either !pip or !apt.\n\nTo view examples of installing some common dependencies, click the\n\"Open Examples\" button below.\n\u001b[0;31m---------------------------------------------------------------------------\u001b[0m\n"
          ],
          "errorDetails": {
            "actions": [
              {
                "action": "open_url",
                "actionText": "Open Examples",
                "url": "/notebooks/snippets/importing_libraries.ipynb"
              }
            ]
          }
        }
      ]
    },
    {
      "cell_type": "code",
      "source": [
        "from shiftlab_ocr import Scanner"
      ],
      "metadata": {
        "id": "WYPJZdvMNiNg"
      },
      "execution_count": null,
      "outputs": []
    },
    {
      "cell_type": "code",
      "source": [
        "scanner = Scanner(ocr_model='hw-cyr')"
      ],
      "metadata": {
        "colab": {
          "base_uri": "https://localhost:8080/"
        },
        "id": "K6wb6OdGMRg5",
        "outputId": "307a2762-15fa-416e-a513-238e0bbfc872"
      },
      "execution_count": null,
      "outputs": [
        {
          "output_type": "stream",
          "name": "stderr",
          "text": [
            "/usr/local/lib/python3.10/dist-packages/torchvision/models/_utils.py:208: UserWarning: The parameter 'pretrained' is deprecated since 0.13 and may be removed in the future, please use 'weights' instead.\n",
            "  warnings.warn(\n",
            "/usr/local/lib/python3.10/dist-packages/torchvision/models/_utils.py:223: UserWarning: Arguments other than a weight enum or `None` for 'weights' are deprecated since 0.13 and may be removed in the future. The current behavior is equivalent to passing `weights=ResNet50_Weights.IMAGENET1K_V1`. You can also use `weights=ResNet50_Weights.DEFAULT` to get the most up-to-date weights.\n",
            "  warnings.warn(msg)\n"
          ]
        }
      ]
    },
    {
      "cell_type": "code",
      "source": [
        "result = scanner.doc2text(\"/content/img045.jpg\")\n",
        "print(result)"
      ],
      "metadata": {
        "colab": {
          "base_uri": "https://localhost:8080/"
        },
        "id": "FhPDbCEDO7ZX",
        "outputId": "f1795698-0bcd-49fb-a1e7-b1a7fbabbdc3"
      },
      "execution_count": null,
      "outputs": [
        {
          "output_type": "stream",
          "name": "stdout",
          "text": [
            "('', [])\n"
          ]
        }
      ]
    },
    {
      "cell_type": "code",
      "source": [
        "!pip install shiftlab-ocr-test"
      ],
      "metadata": {
        "colab": {
          "base_uri": "https://localhost:8080/"
        },
        "id": "5Utki_KyP4YU",
        "outputId": "564b5d1a-6706-4435-dc06-656c64c9ef0c"
      },
      "execution_count": null,
      "outputs": [
        {
          "output_type": "stream",
          "name": "stdout",
          "text": [
            "Looking in indexes: https://pypi.org/simple, https://us-python.pkg.dev/colab-wheels/public/simple/\n",
            "Requirement already satisfied: shiftlab-ocr-test in /usr/local/lib/python3.10/dist-packages (0.3.2)\n",
            "Requirement already satisfied: opencv-python in /usr/local/lib/python3.10/dist-packages (from shiftlab-ocr-test) (4.7.0.72)\n",
            "Requirement already satisfied: torch in /usr/local/lib/python3.10/dist-packages (from shiftlab-ocr-test) (2.0.1+cu118)\n",
            "Requirement already satisfied: torchvision in /usr/local/lib/python3.10/dist-packages (from shiftlab-ocr-test) (0.15.2+cu118)\n",
            "Requirement already satisfied: tqdm in /usr/local/lib/python3.10/dist-packages (from shiftlab-ocr-test) (4.65.0)\n",
            "Requirement already satisfied: Pillow in /usr/local/lib/python3.10/dist-packages (from shiftlab-ocr-test) (8.4.0)\n",
            "Requirement already satisfied: PyYAML in /usr/local/lib/python3.10/dist-packages (from shiftlab-ocr-test) (6.0)\n",
            "Requirement already satisfied: pandas in /usr/local/lib/python3.10/dist-packages (from shiftlab-ocr-test) (1.5.3)\n",
            "Requirement already satisfied: numpy>=1.21.2 in /usr/local/lib/python3.10/dist-packages (from opencv-python->shiftlab-ocr-test) (1.22.4)\n",
            "Requirement already satisfied: python-dateutil>=2.8.1 in /usr/local/lib/python3.10/dist-packages (from pandas->shiftlab-ocr-test) (2.8.2)\n",
            "Requirement already satisfied: pytz>=2020.1 in /usr/local/lib/python3.10/dist-packages (from pandas->shiftlab-ocr-test) (2022.7.1)\n",
            "Requirement already satisfied: filelock in /usr/local/lib/python3.10/dist-packages (from torch->shiftlab-ocr-test) (3.12.0)\n",
            "Requirement already satisfied: typing-extensions in /usr/local/lib/python3.10/dist-packages (from torch->shiftlab-ocr-test) (4.5.0)\n",
            "Requirement already satisfied: sympy in /usr/local/lib/python3.10/dist-packages (from torch->shiftlab-ocr-test) (1.11.1)\n",
            "Requirement already satisfied: networkx in /usr/local/lib/python3.10/dist-packages (from torch->shiftlab-ocr-test) (3.1)\n",
            "Requirement already satisfied: jinja2 in /usr/local/lib/python3.10/dist-packages (from torch->shiftlab-ocr-test) (3.1.2)\n",
            "Requirement already satisfied: triton==2.0.0 in /usr/local/lib/python3.10/dist-packages (from torch->shiftlab-ocr-test) (2.0.0)\n",
            "Requirement already satisfied: cmake in /usr/local/lib/python3.10/dist-packages (from triton==2.0.0->torch->shiftlab-ocr-test) (3.25.2)\n",
            "Requirement already satisfied: lit in /usr/local/lib/python3.10/dist-packages (from triton==2.0.0->torch->shiftlab-ocr-test) (16.0.5)\n",
            "Requirement already satisfied: requests in /usr/local/lib/python3.10/dist-packages (from torchvision->shiftlab-ocr-test) (2.27.1)\n",
            "Requirement already satisfied: six>=1.5 in /usr/local/lib/python3.10/dist-packages (from python-dateutil>=2.8.1->pandas->shiftlab-ocr-test) (1.16.0)\n",
            "Requirement already satisfied: MarkupSafe>=2.0 in /usr/local/lib/python3.10/dist-packages (from jinja2->torch->shiftlab-ocr-test) (2.1.2)\n",
            "Requirement already satisfied: urllib3<1.27,>=1.21.1 in /usr/local/lib/python3.10/dist-packages (from requests->torchvision->shiftlab-ocr-test) (1.26.15)\n",
            "Requirement already satisfied: certifi>=2017.4.17 in /usr/local/lib/python3.10/dist-packages (from requests->torchvision->shiftlab-ocr-test) (2022.12.7)\n",
            "Requirement already satisfied: charset-normalizer~=2.0.0 in /usr/local/lib/python3.10/dist-packages (from requests->torchvision->shiftlab-ocr-test) (2.0.12)\n",
            "Requirement already satisfied: idna<4,>=2.5 in /usr/local/lib/python3.10/dist-packages (from requests->torchvision->shiftlab-ocr-test) (3.4)\n",
            "Requirement already satisfied: mpmath>=0.19 in /usr/local/lib/python3.10/dist-packages (from sympy->torch->shiftlab-ocr-test) (1.3.0)\n"
          ]
        }
      ]
    },
    {
      "cell_type": "code",
      "source": [
        "from shiftlab_ocr.doc2text import Reader"
      ],
      "metadata": {
        "id": "Do2MSGI7QFh7"
      },
      "execution_count": null,
      "outputs": []
    },
    {
      "cell_type": "code",
      "source": [
        "reader = Reader()\n",
        "result = reader.doc2text(\"/content/img045.jpg\")\n",
        "\n",
        "print(result[0])"
      ],
      "metadata": {
        "colab": {
          "base_uri": "https://localhost:8080/"
        },
        "id": "I3lbwIjXQIJU",
        "outputId": "74dc3c5d-abd5-48b0-adef-382108e85f8d"
      },
      "execution_count": null,
      "outputs": [
        {
          "output_type": "stream",
          "name": "stdout",
          "text": [
            "downloading detector weights ...\n",
            "downloading recognizer weights ...\n",
            "recognizer weights has loaded from /usr/local/lib/python3.10/dist-packages/shiftlab_ocr/doc2text/weights/ocr_transformer_4h2l_simple_conv_64x256.pt\n",
            "\u001b[31m\u001b[1mrequirements:\u001b[0m /usr/local/lib/python3.10/dist-packages/shiftlab_ocr/doc2text/yolov5/requirements.txt not found, check failed.\n",
            "Н. К. (УВ Непрерывные с 19,11 непредельных 5 (МНИС \"Звы7\" что трудней этизов груты образой этот сучёт кугит 06.04.961 это 184676 (ндаривнуты не в РНУ невырутру попускающих 188РНИЕНИЕ 31546 17246 4.12 7 879 г. АГИМАН Принировной эквичны испых инеся Текс-ый никр. На РВЕГИ двидется НАПР посовой связности ВНИМАНИЕ в котором 8346 бука нные это теренинг будет 7311414271 ЧТВ для 1987 Паля Г ТВТВД Получность постность Вланку бувлин) Но ТИСГИЕ 1 11-ГУт элевична ЕГИТРН 27.11.14 3 Группа ТРУВД РНУТМНИЕТ преобразованием упвлотна ТНадретин кусску голорь изначальны Правод уже в Ровеке быть получены некоторые (сзулитель) безусленно трине ГИСГ Жащие копологии (налг. 1807812 ГПВД связи тежду (УНКАОМ граней этбот 1)ВРРИН МНАГИСРАНИЕНИЕТР Туна только в Сворные Увека появляются -10- ГТИН ки спытематнупрать эту являеть (Закая, (готевая Дег авгад получитер результны получинатер решиплоты суммантальные гладарович (Племет) ГНСН тидитность порузк возменной 2) Точные В 1895 году Полноте пустине кольшино грантрун Тревуй Темь, учнов К Рестве защитный 01 г. был Которой тейдет куауме Гавну основные на ВМВНИНИ проблема 12 Д.Овекс Нартупает этоты распрот твиоламин Она РСвокуется эт МЕГоров Анализа вырабатывая 837) следенные методы Которые затем получают применение к килия Чёлки Иванг закоро В настояние стен ВНИМАНИЕ чинено разведенть на тру отдела Комвинаторика рассматривае Образом которые \"Здена этог Смысла пож473 на конечное число элементарны 0878325 Послезные должно быть опологически равны (напр. верхности Допускающие Риангударную Основная проблема Кольцо натернум заключается В следующем: Определить полную Толную снетемы инвариантов гопологического образа Е. СНСТему улевк, равнетво которых для 28УК образов Достаточно чтобы заключить об НХ омедиверныме Гологическом равенстве венственно Пля двумерных поверхностей в Грехмерном простанстве этот вопрос решен. Гивариантами Доляются Упоминавшаяся тресозд» ОСТП д Донентическость вверхности Вотвое является она Авужеторонней НАМ одностороннен 219 новорных 08/730 эта задача не решена Повидимому \n"
          ]
        }
      ]
    },
    {
      "cell_type": "code",
      "source": [
        "print(result[0])"
      ],
      "metadata": {
        "id": "T6OVw171QvcH",
        "outputId": "19d8d757-7d4b-42a9-9551-d45086e8d482",
        "colab": {
          "base_uri": "https://localhost:8080/"
        }
      },
      "execution_count": null,
      "outputs": [
        {
          "output_type": "stream",
          "name": "stdout",
          "text": [
            "Н. К. (УВ Непрерывные с 19,11 непредельных 5 (МНИС \"Звы7\" что трудней этизов груты образой этот сучёт кугит 06.04.961 это 184676 (ндаривнуты не в РНУ невырутру попускающих 188РНИЕНИЕ 31546 17246 4.12 7 879 г. АГИМАН Принировной эквичны испых инеся Текс-ый никр. На РВЕГИ двидется НАПР посовой связности ВНИМАНИЕ в котором 8346 бука нные это теренинг будет 7311414271 ЧТВ для 1987 Паля Г ТВТВД Получность постность Вланку бувлин) Но ТИСГИЕ 1 11-ГУт элевична ЕГИТРН 27.11.14 3 Группа ТРУВД РНУТМНИЕТ преобразованием упвлотна ТНадретин кусску голорь изначальны Правод уже в Ровеке быть получены некоторые (сзулитель) безусленно трине ГИСГ Жащие копологии (налг. 1807812 ГПВД связи тежду (УНКАОМ граней этбот 1)ВРРИН МНАГИСРАНИЕНИЕТР Туна только в Сворные Увека появляются -10- ГТИН ки спытематнупрать эту являеть (Закая, (готевая Дег авгад получитер результны получинатер решиплоты суммантальные гладарович (Племет) ГНСН тидитность порузк возменной 2) Точные В 1895 году Полноте пустине кольшино грантрун Тревуй Темь, учнов К Рестве защитный 01 г. был Которой тейдет куауме Гавну основные на ВМВНИНИ проблема 12 Д.Овекс Нартупает этоты распрот твиоламин Она РСвокуется эт МЕГоров Анализа вырабатывая 837) следенные методы Которые затем получают применение к килия Чёлки Иванг закоро В настояние стен ВНИМАНИЕ чинено разведенть на тру отдела Комвинаторика рассматривае Образом которые \"Здена этог Смысла пож473 на конечное число элементарны 0878325 Послезные должно быть опологически равны (напр. верхности Допускающие Риангударную Основная проблема Кольцо натернум заключается В следующем: Определить полную Толную снетемы инвариантов гопологического образа Е. СНСТему улевк, равнетво которых для 28УК образов Достаточно чтобы заключить об НХ омедиверныме Гологическом равенстве венственно Пля двумерных поверхностей в Грехмерном простанстве этот вопрос решен. Гивариантами Доляются Упоминавшаяся тресозд» ОСТП д Донентическость вверхности Вотвое является она Авужеторонней НАМ одностороннен 219 новорных 08/730 эта задача не решена Повидимому \n"
          ]
        }
      ]
    },
    {
      "cell_type": "markdown",
      "source": [
        "# Some old stuff"
      ],
      "metadata": {
        "id": "Gx-QHecgatl9"
      }
    },
    {
      "cell_type": "code",
      "source": [
        "inputblob = TextBlob(\"Мама мыл рама - р_ма был грязный. Но не помогло, рама был грязный все равно.\")\n",
        "# inputblob.sentences\n",
        "inputblob.words"
      ],
      "metadata": {
        "colab": {
          "base_uri": "https://localhost:8080/"
        },
        "id": "S0WyVDLZUmIu",
        "outputId": "ab37ab4a-7b63-4ae9-956d-dc2e1f695913"
      },
      "execution_count": null,
      "outputs": [
        {
          "output_type": "execute_result",
          "data": {
            "text/plain": [
              "WordList(['Мама', 'мыл', 'рама', 'р_ма', 'был', 'грязный', 'Но', 'не', 'помогло', 'рама', 'был', 'грязный', 'все', 'равно'])"
            ]
          },
          "metadata": {},
          "execution_count": 37
        }
      ]
    },
    {
      "cell_type": "code",
      "source": [
        "# Поиск в словаре устойчивых конструкций\n",
        "!pip install levenshtein\n",
        "from Levenshtein import distance\n",
        "\n",
        "def search_in_dict(text, w_dictionary):\n",
        "  text = text_preprocessing(text)\n",
        "  searchBlob = TextBlob(text)\n",
        "\n",
        "  # Поиск поврежденных слов\n",
        "  damagedWords = {}\n",
        "  k=0\n",
        "  for word in searchBlob.words:\n",
        "    if(word.find(SUBSTITUTE_SYMBOL) != -1):\n",
        "      damagedWords[k]=[word, \"\"] # поврежденная и исправленная формы\n",
        "    k+=1\n",
        "\n",
        "  # Формирование n-грамм для поиска, n-граммы сгруппированы по повреденному слову\n",
        "  # Каждую группу формируют n-граммы, содержащие поврежденное слово\n",
        "  searchNgramms = {}\n",
        "  for key,value in damagedWords.items():\n",
        "    tempList = []\n",
        "    for i in range(N_NUMBER):\n",
        "      # Проверки на выход за границы списка\n",
        "      if(key - N_NUMBER + 1 + i < 0): continue\n",
        "      if(key + i) >= k: break\n",
        "      tempList.append(tuple(searchBlob.words[key-N_NUMBER+1+i : key+1+i]))\n",
        "    searchNgramms[key]=list(tempList) # ключом выступает порядковый номер слова в тексте\n",
        "\n",
        "  # Поиск в словаре устойчивых конструкций\n",
        "  for key,value in searchNgramms.items():\n",
        "    for search_n in value:\n",
        "      k=0   # индекс слова внутри n-грамма\n",
        "      i=[]  # индексы поврежденных слов - будет сравниваться в последнюю очередь\n",
        "      eq = list(w_dictionary.keys())  # совпадающие устойчивые конструкции\n",
        "\n",
        "      for word in search_n:\n",
        "        if(word.find(SUBSTITUTE_SYMBOL) != -1):\n",
        "          i.append(k)\n",
        "          k+=1\n",
        "          continue\n",
        "        # Грязным хаком контрим ленивые вычисления - если не оборачивать лямбду в другую\n",
        "        # лямбду, все вычисления произойдут с последним значением k - из последней итерации\n",
        "        # https://stackoverflow.com/questions/28014953/capturing-value-instead-of-reference-in-lambdas\n",
        "        # Сравниваем слова по порядку с n-граммами словаря (ленивые вычисления)\n",
        "        eq = filter(lambda n: lambda: n[k] == word, eq)\n",
        "        k+=1\n",
        "\n",
        "      # Сравниваем поврежденное слово\n",
        "      for index in i:\n",
        "        subst_n = search_n[index].count(SUBSTITUTE_SYMBOL) # число поврежденных символов в слове\n",
        "        # Фильтруем по расстоянию Левенштейна (только замены) == числу поврежденных символов в слове\n",
        "        eq = filter(lambda n: lambda: distance(n[index], search_n[index], weights=(0,0,1)) == subst_n, eq)\n",
        "\n",
        "      eqList = list(eq) # Ленивые фильтрации вычисляются здесь\n",
        "      if(len(eqList) != 0):\n",
        "        for index in i:   # Ищем восстанавливаемое слово (восстанавливается 1 слово за итерацию)\n",
        "          if(damagedWords[key][0] == search_n[index]):\n",
        "            damagedWords[key][1] = eqList[0][index] # надо брать самый частовстречаемый вариант\n",
        "            break\n",
        "\n",
        "  return damagedWords"
      ],
      "metadata": {
        "id": "69rE4KXpPGIK"
      },
      "execution_count": null,
      "outputs": []
    },
    {
      "cell_type": "code",
      "source": [],
      "metadata": {
        "id": "fDmVAnU4V4QD"
      },
      "execution_count": null,
      "outputs": []
    },
    {
      "cell_type": "code",
      "source": [
        "# Поиск в словаре устойчивых конструкций\n",
        "\n",
        "\n",
        "inputText = \"Гомотопическая классификация и ƪƪ применения\"\n",
        "searchBlob = TextBlob(inputText)\n",
        "print(searchBlob.words)\n",
        "\n",
        "# Поиск поврежденных слов\n",
        "damagedWords = {}\n",
        "k=0\n",
        "for word in searchBlob.words:\n",
        "  if(word.find(SUBSTITUTE_SYMBOL) != -1):\n",
        "    damagedWords[k]=[word, \"\"] # damaged word and corrected form\n",
        "  k+=1\n",
        "\n",
        "# Формирование n-грамм для поиска\n",
        "searchNgramms = {}\n",
        "for key,value in damagedWords.items():\n",
        "  tempList = []\n",
        "  for i in range(N_NUMBER):\n",
        "    if(key - N_NUMBER + 1 + i < 0): continue\n",
        "    if(key + i) >= k: break\n",
        "    tempList.append(tuple(searchBlob.words[key-N_NUMBER+1+i : key+1+i]))\n",
        "  searchNgramms[key]=list(tempList)\n",
        "\n",
        "# print(searchNgramms)\n",
        "\n",
        "\n",
        "# Поиск в словаре устойчивых конструкций\n",
        "for key,value in searchNgramms.items():\n",
        "  for search_n in value:\n",
        "    k=0   # индекс внутри n-грамма\n",
        "    i=[]  # индексы поврежденных слов - будет сравниваться в последнюю очередь\n",
        "    eq = list(wdict.keys())  # совпадающие устойчивые конструкции\n",
        "\n",
        "    for word in search_n:\n",
        "      if(word.find(SUBSTITUTE_SYMBOL) != -1):\n",
        "        i.append(k)\n",
        "        k+=1\n",
        "        continue\n",
        "      # Грязным хаком контрим ленивые вычисления - если не оборачивать лямбду в другую\n",
        "      # лямбду, все вычисления произойдут с последним значением k - из последней итерации\n",
        "      # https://stackoverflow.com/questions/28014953/capturing-value-instead-of-reference-in-lambdas\n",
        "      eq = filter(lambda nGramm: lambda: nGramm[k] == word, eq)\n",
        "\n",
        "      k+=1\n",
        "\n",
        "      # if(len(eq) == 0):\n",
        "      #   i=[]\n",
        "      #   break\n",
        "\n",
        "    for index in i:\n",
        "      subst_number = search_n[index].count(SUBSTITUTE_SYMBOL) # число поврежденных символов в слове\n",
        "      # Фильтруем по расстоянию Левенштейна (только замены) == числу поврежденных символов в слове\n",
        "      eq = filter(lambda nGramm: lambda: distance(nGramm[index], search_n[index], weights=(0,0,1)) == subst_number, eq)\n",
        "\n",
        "      # if(len(eq) == 0):\n",
        "      #   i=[]\n",
        "      #   break\n",
        "\n",
        "    eqList = list(eq)\n",
        "    if(len(eqList) != 0):\n",
        "      for index in i:   # Ищем восстанавливаемое слово (восстанавливается 1 слово за итерацию)\n",
        "        if(damagedWords[key][0] == search_n[index]):\n",
        "          damagedWords[key][1] = eqList[0][index] # надо брать самый частовстречаемый вариант\n",
        "          break\n",
        "\n",
        "print(damagedWords)"
      ],
      "metadata": {
        "colab": {
          "base_uri": "https://localhost:8080/"
        },
        "id": "JcF8qHCDL7W_",
        "outputId": "4d8d56b0-8666-4b09-b642-6f9575e750e6"
      },
      "execution_count": null,
      "outputs": [
        {
          "output_type": "stream",
          "name": "stdout",
          "text": [
            "['Гомотопическая', 'классификация', 'и', 'ƪƪ', 'применения']\n",
            "{3: ['ƪƪ', 'о']}\n"
          ]
        }
      ]
    },
    {
      "cell_type": "code",
      "source": [
        "# Aux\n",
        "#book 1,4 - проблемы с кодировкой\n",
        "#book 5 - скан\n",
        "\n",
        "# path_list = [\"/content/book6.pdf\"]\n",
        "# path_list = [\"/content/book7.pdf\"]\n",
        "\n",
        "# path_list = [\"/content/book2.pdf\",\n",
        "#              \"/content/book3.pdf\",\n",
        "#              \"/content/book6.pdf\",\n",
        "#              \"/content/book7.pdf\"]\n",
        "\n",
        "with open (\"/content/book1.pdf\", \"rb\") as f:\n",
        "      pdf = pdf2.PdfReader(f)\n",
        "      print(pdf.pages[10].extract_text())"
      ],
      "metadata": {
        "id": "4pGc_KzAyR-Y"
      },
      "execution_count": null,
      "outputs": []
    },
    {
      "cell_type": "code",
      "source": [
        "# Грас биграммы\n",
        "import re\n",
        "from bs4 import BeautifulSoup\n",
        "import requests\n",
        "\n",
        "def fix_unicode(text: str) -> str:\n",
        "  return text.replace(u\"\\u2019\", \"'\")\n",
        "\n",
        "url = \"https://www.oreilly.com/ideas/what-is-data-science\"\n",
        "html = requests.get(url).text\n",
        "soup = BeautifulSoup(html, 'html5lib')\n",
        "\n",
        "content = soup.find(\"div\", \"article-body\") # Отыскать div с именем article-body\n",
        "regex = r\"[\\w']+I [\\.]\" # Сочетает слово и точку\n",
        "document = []\n",
        "for paragraph in content(\"p\"):\n",
        "  words = re.findall(regex, fix_unicode(paragraph.text))\n",
        "  document.extend(words)\n",
        "\n",
        "from collections import defaultdict\n",
        "transitions = defaultdict(list)\n",
        "for prev, current in zip(document, document[1:]):\n",
        "  transitions[prev].append(current)\n",
        "\n",
        "def generate_using_Ьigrams() -> str:\n",
        "  current = \".\"# Означает, что следующее слово начнет предложение\n",
        "  result = []\n",
        "  while True:\n",
        "    next_word_candidates = transitions[current] # Биграммы (current, )\n",
        "    current = random.choice(next_word_candidates) # Выбрать одно случайно\n",
        "    result.append(current) # Добавить в result\n",
        "    if current == \" . \": return\" \".join(result) #Если \".\", то завершаем\n"
      ],
      "metadata": {
        "id": "5U7K_TcOQ0O8"
      },
      "execution_count": null,
      "outputs": []
    },
    {
      "cell_type": "code",
      "source": [
        "# Грас триграммы\n",
        "trigram_transitions = defaultdict(list)\n",
        "starts = []\n",
        "for prev, current, next in zip(document, document[1:], document[2:]):\n",
        "\n",
        "  if prev == \".\": # Если предьщущее \"слово\" было точкой,\n",
        "    starts.append(current) # то это стартовое слово\n",
        "\n",
        "\n",
        "  trigram_transitions[(prev, current)].append(next)\n",
        "\n",
        "\n",
        "def generate_using_trigrams() -> str:\n",
        "  current = random.choice(starts) # Выбрать случайное стартовое слово\n",
        "  # и предварить его символом 1 1\n",
        "  prev = \".\"\n",
        "  result = [current]\n",
        "  while True:\n",
        "    next_word_candidates = trigram_transitions[ (prev, current)]\n",
        "    next_word = random.choice(next_word_candidates)\n",
        "\n",
        "    prev, current = current, next_word\n",
        "    result.append(current)\n",
        "\n",
        "    if current == \".\":\n",
        "      return \" \".join(result)"
      ],
      "metadata": {
        "id": "pZtJM0p-UFES"
      },
      "execution_count": null,
      "outputs": []
    }
  ],
  "metadata": {
    "language_info": {
      "name": "python"
    },
    "orig_nbformat": 4,
    "colab": {
      "provenance": []
    },
    "kernelspec": {
      "name": "python3",
      "display_name": "Python 3"
    },
    "gpuClass": "standard"
  },
  "nbformat": 4,
  "nbformat_minor": 0
}